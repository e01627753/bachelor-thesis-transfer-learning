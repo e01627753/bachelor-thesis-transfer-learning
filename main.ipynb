{
 "cells": [
  {
   "cell_type": "markdown",
   "id": "fe4fc592",
   "metadata": {},
   "source": [
    "## Bachelor Arbeit:\n",
    "\n",
    "Wie stark sind die Auswirkungen von Transfer Learning bezüglich der Effizienz und Effektivität anhand des Beispiels Autokennzeichen, wenn die erhebbaren Daten begrenzt sind?\n",
    "***\n",
    "How strong is the impact of transfer learning regarding the efficiency and effectiveness of convolutional neural networks, based on the example of detecting vehicle registration plates, assuming working with limited datasets?"
   ]
  },
  {
   "cell_type": "code",
   "execution_count": 14,
   "id": "5a8fd84a",
   "metadata": {},
   "outputs": [
    {
     "name": "stdout",
     "output_type": "stream",
     "text": [
      "Requirement already satisfied: fiftyone in c:\\users\\benni\\.conda\\envs\\bachelor_thesis\\lib\\site-packages (0.18.0)\n",
      "Requirement already satisfied: argcomplete in c:\\users\\benni\\.conda\\envs\\bachelor_thesis\\lib\\site-packages (from fiftyone) (2.0.0)\n",
      "Requirement already satisfied: xmltodict in c:\\users\\benni\\.conda\\envs\\bachelor_thesis\\lib\\site-packages (from fiftyone) (0.13.0)\n",
      "Requirement already satisfied: hypercorn>=0.13.2 in c:\\users\\benni\\.conda\\envs\\bachelor_thesis\\lib\\site-packages (from fiftyone) (0.14.3)\n",
      "Requirement already satisfied: plotly>=4.14 in c:\\users\\benni\\.conda\\envs\\bachelor_thesis\\lib\\site-packages (from fiftyone) (5.9.0)\n",
      "Requirement already satisfied: future in c:\\users\\benni\\.conda\\envs\\bachelor_thesis\\lib\\site-packages (from fiftyone) (0.18.2)\n",
      "Requirement already satisfied: mongoengine==0.24.2 in c:\\users\\benni\\.conda\\envs\\bachelor_thesis\\lib\\site-packages (from fiftyone) (0.24.2)\n",
      "Requirement already satisfied: setuptools in c:\\users\\benni\\.conda\\envs\\bachelor_thesis\\lib\\site-packages (from fiftyone) (63.4.1)\n",
      "Requirement already satisfied: pandas in c:\\users\\benni\\.conda\\envs\\bachelor_thesis\\lib\\site-packages (from fiftyone) (1.4.4)\n",
      "Requirement already satisfied: tabulate in c:\\users\\benni\\.conda\\envs\\bachelor_thesis\\lib\\site-packages (from fiftyone) (0.8.10)\n",
      "Requirement already satisfied: motor>=2.3 in c:\\users\\benni\\.conda\\envs\\bachelor_thesis\\lib\\site-packages (from fiftyone) (3.1.1)\n",
      "Requirement already satisfied: starlette==0.20.4 in c:\\users\\benni\\.conda\\envs\\bachelor_thesis\\lib\\site-packages (from fiftyone) (0.20.4)\n",
      "Requirement already satisfied: pymongo>=3.11 in c:\\users\\benni\\.conda\\envs\\bachelor_thesis\\lib\\site-packages (from fiftyone) (4.3.3)\n",
      "Requirement already satisfied: scikit-image in c:\\users\\benni\\.conda\\envs\\bachelor_thesis\\lib\\site-packages (from fiftyone) (0.19.2)\n",
      "Requirement already satisfied: sse-starlette<1,>=0.10.3 in c:\\users\\benni\\.conda\\envs\\bachelor_thesis\\lib\\site-packages (from fiftyone) (0.10.3)\n",
      "Requirement already satisfied: aiofiles in c:\\users\\benni\\.conda\\envs\\bachelor_thesis\\lib\\site-packages (from fiftyone) (22.1.0)\n",
      "Requirement already satisfied: fiftyone-brain<0.10,>=0.9.2 in c:\\users\\benni\\.conda\\envs\\bachelor_thesis\\lib\\site-packages (from fiftyone) (0.9.2)\n",
      "Requirement already satisfied: retrying in c:\\users\\benni\\.conda\\envs\\bachelor_thesis\\lib\\site-packages (from fiftyone) (1.3.4)\n",
      "Requirement already satisfied: opencv-python-headless in c:\\users\\benni\\.conda\\envs\\bachelor_thesis\\lib\\site-packages (from fiftyone) (4.6.0.66)\n",
      "Requirement already satisfied: Pillow>=6.2 in c:\\users\\benni\\.conda\\envs\\bachelor_thesis\\lib\\site-packages (from fiftyone) (9.2.0)\n",
      "Requirement already satisfied: numpy in c:\\users\\benni\\.conda\\envs\\bachelor_thesis\\lib\\site-packages (from fiftyone) (1.21.5)\n",
      "Requirement already satisfied: pprintpp in c:\\users\\benni\\.conda\\envs\\bachelor_thesis\\lib\\site-packages (from fiftyone) (0.4.0)\n",
      "Requirement already satisfied: Jinja2>=3 in c:\\users\\benni\\.conda\\envs\\bachelor_thesis\\lib\\site-packages (from fiftyone) (3.1.2)\n",
      "Requirement already satisfied: eventlet in c:\\users\\benni\\.conda\\envs\\bachelor_thesis\\lib\\site-packages (from fiftyone) (0.33.2)\n",
      "Requirement already satisfied: ndjson in c:\\users\\benni\\.conda\\envs\\bachelor_thesis\\lib\\site-packages (from fiftyone) (0.3.1)\n",
      "Requirement already satisfied: matplotlib in c:\\users\\benni\\.conda\\envs\\bachelor_thesis\\lib\\site-packages (from fiftyone) (3.5.2)\n",
      "Requirement already satisfied: PyYAML in c:\\users\\benni\\.conda\\envs\\bachelor_thesis\\lib\\site-packages (from fiftyone) (6.0)\n",
      "Requirement already satisfied: strawberry-graphql==0.138.1 in c:\\users\\benni\\.conda\\envs\\bachelor_thesis\\lib\\site-packages (from fiftyone) (0.138.1)\n",
      "Requirement already satisfied: psutil in c:\\users\\benni\\.conda\\envs\\bachelor_thesis\\lib\\site-packages (from fiftyone) (5.9.0)\n",
      "Requirement already satisfied: kaleido in c:\\users\\benni\\.conda\\envs\\bachelor_thesis\\lib\\site-packages (from fiftyone) (0.2.1)\n",
      "Requirement already satisfied: sseclient-py<2,>=1.7.2 in c:\\users\\benni\\.conda\\envs\\bachelor_thesis\\lib\\site-packages (from fiftyone) (1.7.2)\n",
      "Requirement already satisfied: packaging in c:\\users\\benni\\.conda\\envs\\bachelor_thesis\\lib\\site-packages (from fiftyone) (21.3)\n",
      "Requirement already satisfied: Deprecated in c:\\users\\benni\\.conda\\envs\\bachelor_thesis\\lib\\site-packages (from fiftyone) (1.2.13)\n",
      "Requirement already satisfied: fiftyone-db<0.5,>=0.4 in c:\\users\\benni\\.conda\\envs\\bachelor_thesis\\lib\\site-packages (from fiftyone) (0.4.0)\n",
      "Requirement already satisfied: scikit-learn in c:\\users\\benni\\.conda\\envs\\bachelor_thesis\\lib\\site-packages (from fiftyone) (1.0.2)\n",
      "Requirement already satisfied: voxel51-eta<0.9,>=0.8.1 in c:\\users\\benni\\.conda\\envs\\bachelor_thesis\\lib\\site-packages (from fiftyone) (0.8.1)\n",
      "Requirement already satisfied: boto3 in c:\\users\\benni\\.conda\\envs\\bachelor_thesis\\lib\\site-packages (from fiftyone) (1.24.28)\n",
      "Requirement already satisfied: dacite>=1.6.0 in c:\\users\\benni\\.conda\\envs\\bachelor_thesis\\lib\\site-packages (from fiftyone) (1.6.0)\n",
      "Requirement already satisfied: pytz in c:\\users\\benni\\.conda\\envs\\bachelor_thesis\\lib\\site-packages (from fiftyone) (2022.1)\n",
      "Requirement already satisfied: universal-analytics-python3<2,>=1.0.1 in c:\\users\\benni\\.conda\\envs\\bachelor_thesis\\lib\\site-packages (from fiftyone) (1.1.1)\n",
      "Requirement already satisfied: typing-extensions>=3.10.0 in c:\\users\\benni\\.conda\\envs\\bachelor_thesis\\lib\\site-packages (from starlette==0.20.4->fiftyone) (4.3.0)\n",
      "Requirement already satisfied: anyio<5,>=3.4.0 in c:\\users\\benni\\.conda\\envs\\bachelor_thesis\\lib\\site-packages (from starlette==0.20.4->fiftyone) (3.5.0)\n",
      "Requirement already satisfied: graphql-core<3.3.0,>=3.2.0 in c:\\users\\benni\\.conda\\envs\\bachelor_thesis\\lib\\site-packages (from strawberry-graphql==0.138.1->fiftyone) (3.2.3)\n",
      "Requirement already satisfied: python-dateutil<3.0.0,>=2.7.0 in c:\\users\\benni\\.conda\\envs\\bachelor_thesis\\lib\\site-packages (from strawberry-graphql==0.138.1->fiftyone) (2.8.2)\n",
      "Requirement already satisfied: scipy>=1.2.0 in c:\\users\\benni\\.conda\\envs\\bachelor_thesis\\lib\\site-packages (from fiftyone-brain<0.10,>=0.9.2->fiftyone) (1.9.1)\n",
      "Requirement already satisfied: wsproto>=0.14.0 in c:\\users\\benni\\.conda\\envs\\bachelor_thesis\\lib\\site-packages (from hypercorn>=0.13.2->fiftyone) (1.2.0)\n",
      "Requirement already satisfied: priority in c:\\users\\benni\\.conda\\envs\\bachelor_thesis\\lib\\site-packages (from hypercorn>=0.13.2->fiftyone) (2.0.0)\n",
      "Requirement already satisfied: toml in c:\\users\\benni\\.conda\\envs\\bachelor_thesis\\lib\\site-packages (from hypercorn>=0.13.2->fiftyone) (0.10.2)\n",
      "Requirement already satisfied: h2>=3.1.0 in c:\\users\\benni\\.conda\\envs\\bachelor_thesis\\lib\\site-packages (from hypercorn>=0.13.2->fiftyone) (4.1.0)\n",
      "Requirement already satisfied: h11 in c:\\users\\benni\\.conda\\envs\\bachelor_thesis\\lib\\site-packages (from hypercorn>=0.13.2->fiftyone) (0.14.0)\n",
      "Requirement already satisfied: MarkupSafe>=2.0 in c:\\users\\benni\\.conda\\envs\\bachelor_thesis\\lib\\site-packages (from Jinja2>=3->fiftyone) (2.0.1)\n",
      "Requirement already satisfied: tenacity>=6.2.0 in c:\\users\\benni\\.conda\\envs\\bachelor_thesis\\lib\\site-packages (from plotly>=4.14->fiftyone) (8.0.1)\n",
      "Requirement already satisfied: dnspython<3.0.0,>=1.16.0 in c:\\users\\benni\\.conda\\envs\\bachelor_thesis\\lib\\site-packages (from pymongo>=3.11->fiftyone) (2.2.1)\n",
      "Requirement already satisfied: httpx>=0.10.0 in c:\\users\\benni\\.conda\\envs\\bachelor_thesis\\lib\\site-packages (from universal-analytics-python3<2,>=1.0.1->fiftyone) (0.23.1)\n",
      "Requirement already satisfied: six in c:\\users\\benni\\.conda\\envs\\bachelor_thesis\\lib\\site-packages (from voxel51-eta<0.9,>=0.8.1->fiftyone) (1.16.0)\n",
      "Requirement already satisfied: glob2 in c:\\users\\benni\\.conda\\envs\\bachelor_thesis\\lib\\site-packages (from voxel51-eta<0.9,>=0.8.1->fiftyone) (0.7)\n",
      "Requirement already satisfied: dill in c:\\users\\benni\\.conda\\envs\\bachelor_thesis\\lib\\site-packages (from voxel51-eta<0.9,>=0.8.1->fiftyone) (0.3.4)\n",
      "Requirement already satisfied: sortedcontainers in c:\\users\\benni\\.conda\\envs\\bachelor_thesis\\lib\\site-packages (from voxel51-eta<0.9,>=0.8.1->fiftyone) (2.4.0)\n",
      "Requirement already satisfied: requests in c:\\users\\benni\\.conda\\envs\\bachelor_thesis\\lib\\site-packages (from voxel51-eta<0.9,>=0.8.1->fiftyone) (2.28.1)\n",
      "Requirement already satisfied: patool in c:\\users\\benni\\.conda\\envs\\bachelor_thesis\\lib\\site-packages (from voxel51-eta<0.9,>=0.8.1->fiftyone) (1.12)\n",
      "Requirement already satisfied: urllib3 in c:\\users\\benni\\.conda\\envs\\bachelor_thesis\\lib\\site-packages (from voxel51-eta<0.9,>=0.8.1->fiftyone) (1.26.11)\n",
      "Requirement already satisfied: tzlocal in c:\\users\\benni\\.conda\\envs\\bachelor_thesis\\lib\\site-packages (from voxel51-eta<0.9,>=0.8.1->fiftyone) (4.2)\n",
      "Requirement already satisfied: botocore<1.28.0,>=1.27.28 in c:\\users\\benni\\.conda\\envs\\bachelor_thesis\\lib\\site-packages (from boto3->fiftyone) (1.27.28)\n",
      "Requirement already satisfied: jmespath<2.0.0,>=0.7.1 in c:\\users\\benni\\.conda\\envs\\bachelor_thesis\\lib\\site-packages (from boto3->fiftyone) (0.10.0)\n",
      "Requirement already satisfied: s3transfer<0.7.0,>=0.6.0 in c:\\users\\benni\\.conda\\envs\\bachelor_thesis\\lib\\site-packages (from boto3->fiftyone) (0.6.0)\n",
      "Requirement already satisfied: wrapt<2,>=1.10 in c:\\users\\benni\\.conda\\envs\\bachelor_thesis\\lib\\site-packages (from Deprecated->fiftyone) (1.14.1)\n",
      "Requirement already satisfied: greenlet>=0.3 in c:\\users\\benni\\.conda\\envs\\bachelor_thesis\\lib\\site-packages (from eventlet->fiftyone) (1.1.1)\n",
      "Requirement already satisfied: cycler>=0.10 in c:\\users\\benni\\.conda\\envs\\bachelor_thesis\\lib\\site-packages (from matplotlib->fiftyone) (0.11.0)\n",
      "Requirement already satisfied: pyparsing>=2.2.1 in c:\\users\\benni\\.conda\\envs\\bachelor_thesis\\lib\\site-packages (from matplotlib->fiftyone) (3.0.9)\n",
      "Requirement already satisfied: fonttools>=4.22.0 in c:\\users\\benni\\.conda\\envs\\bachelor_thesis\\lib\\site-packages (from matplotlib->fiftyone) (4.25.0)\n",
      "Requirement already satisfied: kiwisolver>=1.0.1 in c:\\users\\benni\\.conda\\envs\\bachelor_thesis\\lib\\site-packages (from matplotlib->fiftyone) (1.4.2)\n",
      "Requirement already satisfied: imageio>=2.4.1 in c:\\users\\benni\\.conda\\envs\\bachelor_thesis\\lib\\site-packages (from scikit-image->fiftyone) (2.19.3)\n",
      "Requirement already satisfied: PyWavelets>=1.1.1 in c:\\users\\benni\\.conda\\envs\\bachelor_thesis\\lib\\site-packages (from scikit-image->fiftyone) (1.3.0)\n",
      "Requirement already satisfied: tifffile>=2019.7.26 in c:\\users\\benni\\.conda\\envs\\bachelor_thesis\\lib\\site-packages (from scikit-image->fiftyone) (2021.7.2)\n",
      "Requirement already satisfied: networkx>=2.2 in c:\\users\\benni\\.conda\\envs\\bachelor_thesis\\lib\\site-packages (from scikit-image->fiftyone) (2.8.4)\n",
      "Requirement already satisfied: joblib>=0.11 in c:\\users\\benni\\.conda\\envs\\bachelor_thesis\\lib\\site-packages (from scikit-learn->fiftyone) (1.1.0)\n",
      "Requirement already satisfied: threadpoolctl>=2.0.0 in c:\\users\\benni\\.conda\\envs\\bachelor_thesis\\lib\\site-packages (from scikit-learn->fiftyone) (2.2.0)\n",
      "Requirement already satisfied: sniffio>=1.1 in c:\\users\\benni\\.conda\\envs\\bachelor_thesis\\lib\\site-packages (from anyio<5,>=3.4.0->starlette==0.20.4->fiftyone) (1.2.0)\n",
      "Requirement already satisfied: idna>=2.8 in c:\\users\\benni\\.conda\\envs\\bachelor_thesis\\lib\\site-packages (from anyio<5,>=3.4.0->starlette==0.20.4->fiftyone) (3.3)\n",
      "Requirement already satisfied: hyperframe<7,>=6.0 in c:\\users\\benni\\.conda\\envs\\bachelor_thesis\\lib\\site-packages (from h2>=3.1.0->hypercorn>=0.13.2->fiftyone) (6.0.1)\n",
      "Requirement already satisfied: hpack<5,>=4.0 in c:\\users\\benni\\.conda\\envs\\bachelor_thesis\\lib\\site-packages (from h2>=3.1.0->hypercorn>=0.13.2->fiftyone) (4.0.0)\n",
      "Requirement already satisfied: certifi in c:\\users\\benni\\.conda\\envs\\bachelor_thesis\\lib\\site-packages (from httpx>=0.10.0->universal-analytics-python3<2,>=1.0.1->fiftyone) (2022.9.14)\n",
      "Requirement already satisfied: httpcore<0.17.0,>=0.15.0 in c:\\users\\benni\\.conda\\envs\\bachelor_thesis\\lib\\site-packages (from httpx>=0.10.0->universal-analytics-python3<2,>=1.0.1->fiftyone) (0.16.2)\n",
      "Requirement already satisfied: rfc3986[idna2008]<2,>=1.3 in c:\\users\\benni\\.conda\\envs\\bachelor_thesis\\lib\\site-packages (from httpx>=0.10.0->universal-analytics-python3<2,>=1.0.1->fiftyone) (1.5.0)\n",
      "Requirement already satisfied: charset-normalizer<3,>=2 in c:\\users\\benni\\.conda\\envs\\bachelor_thesis\\lib\\site-packages (from requests->voxel51-eta<0.9,>=0.8.1->fiftyone) (2.0.4)\n",
      "Requirement already satisfied: tzdata in c:\\users\\benni\\.conda\\envs\\bachelor_thesis\\lib\\site-packages (from tzlocal->voxel51-eta<0.9,>=0.8.1->fiftyone) (2022.7)\n",
      "Requirement already satisfied: pytz-deprecation-shim in c:\\users\\benni\\.conda\\envs\\bachelor_thesis\\lib\\site-packages (from tzlocal->voxel51-eta<0.9,>=0.8.1->fiftyone) (0.1.0.post0)\n"
     ]
    }
   ],
   "source": [
    "# install required packages\n",
    "!pip install fiftyone"
   ]
  },
  {
   "cell_type": "markdown",
   "id": "542f851f",
   "metadata": {},
   "source": [
    "#### Dataset:\n",
    "\n",
    "Zuerst werden in den folgenden Codezeilen die Trainings-, Test- und Validationsdaten der Open Images Dataset Datenbank (https://storage.googleapis.com/openimages/web/visualizer/index.html?type=detection&set=train&c=%2Fm%2F01jfm_) heruntergeladen. Dazu wird die von Google empfohlene FiftyOne Bibliothek verwendet (https://voxel51.com/docs/fiftyone/)."
   ]
  },
  {
   "cell_type": "code",
   "execution_count": 13,
   "id": "0f159a3a",
   "metadata": {},
   "outputs": [
    {
     "name": "stdout",
     "output_type": "stream",
     "text": [
      "C:\\Users\\Benni\\Desktop\\PythonProjects\\BA\\bachelor-thesis-transfer-learning\\code\\..\n",
      "C:\\Users\\Benni\\Desktop\\PythonProjects\\BA\\bachelor-thesis-transfer-learning\\code\\..\\data\n",
      "Downloading split 'train' to 'C:\\Users\\Benni\\Desktop\\PythonProjects\\BA\\bachelor-thesis-transfer-learning\\code\\..\\data\\train' if necessary\n",
      "Downloading 'https://storage.googleapis.com/openimages/2018_04/train/train-images-boxable-with-rotation.csv' to 'C:\\Users\\Benni\\Desktop\\PythonProjects\\BA\\bachelor-thesis-transfer-learning\\code\\..\\data\\train\\metadata\\image_ids.csv'\n",
      " 100% |██████|    4.8Gb/4.8Gb [1.2m elapsed, 0s remaining, 50.6Mb/s]      \n",
      "Downloading 'https://storage.googleapis.com/openimages/v5/class-descriptions-boxable.csv' to 'C:\\Users\\Benni\\Desktop\\PythonProjects\\BA\\bachelor-thesis-transfer-learning\\code\\..\\data\\train\\metadata\\classes.csv'\n",
      "Downloading 'https://storage.googleapis.com/openimages/2018_04/bbox_labels_600_hierarchy.json' to 'C:\\Users\\Benni\\AppData\\Local\\Temp\\tmpu3w65fly\\metadata\\hierarchy.json'\n",
      "Downloading 'https://storage.googleapis.com/openimages/v6/oidv6-train-annotations-bbox.csv' to 'C:\\Users\\Benni\\Desktop\\PythonProjects\\BA\\bachelor-thesis-transfer-learning\\code\\..\\data\\train\\labels\\detections.csv'\n",
      "Downloading 100 images\n",
      " 100% |███████████████████| 100/100 [7.7s elapsed, 0s remaining, 15.9 files/s]      \n",
      "Downloading split 'test' to 'C:\\Users\\Benni\\Desktop\\PythonProjects\\BA\\bachelor-thesis-transfer-learning\\code\\..\\data\\test' if necessary\n",
      "Downloading 'https://storage.googleapis.com/openimages/2018_04/test/test-images-with-rotation.csv' to 'C:\\Users\\Benni\\Desktop\\PythonProjects\\BA\\bachelor-thesis-transfer-learning\\code\\..\\data\\test\\metadata\\image_ids.csv'\n",
      "Downloading 'https://storage.googleapis.com/openimages/v5/class-descriptions-boxable.csv' to 'C:\\Users\\Benni\\Desktop\\PythonProjects\\BA\\bachelor-thesis-transfer-learning\\code\\..\\data\\test\\metadata\\classes.csv'\n",
      "Downloading 'https://storage.googleapis.com/openimages/2018_04/bbox_labels_600_hierarchy.json' to 'C:\\Users\\Benni\\AppData\\Local\\Temp\\tmp3gpcefzc\\metadata\\hierarchy.json'\n",
      "Downloading 'https://storage.googleapis.com/openimages/v5/test-annotations-bbox.csv' to 'C:\\Users\\Benni\\Desktop\\PythonProjects\\BA\\bachelor-thesis-transfer-learning\\code\\..\\data\\test\\labels\\detections.csv'\n",
      "Downloading 100 images\n",
      " 100% |███████████████████| 100/100 [7.7s elapsed, 0s remaining, 15.2 files/s]      \n",
      "Downloading split 'validation' to 'C:\\Users\\Benni\\Desktop\\PythonProjects\\BA\\bachelor-thesis-transfer-learning\\code\\..\\data\\validation' if necessary\n",
      "Downloading 'https://storage.googleapis.com/openimages/2018_04/validation/validation-images-with-rotation.csv' to 'C:\\Users\\Benni\\Desktop\\PythonProjects\\BA\\bachelor-thesis-transfer-learning\\code\\..\\data\\validation\\metadata\\image_ids.csv'\n",
      "Downloading 'https://storage.googleapis.com/openimages/v5/class-descriptions-boxable.csv' to 'C:\\Users\\Benni\\Desktop\\PythonProjects\\BA\\bachelor-thesis-transfer-learning\\code\\..\\data\\validation\\metadata\\classes.csv'\n",
      "Downloading 'https://storage.googleapis.com/openimages/2018_04/bbox_labels_600_hierarchy.json' to 'C:\\Users\\Benni\\AppData\\Local\\Temp\\tmpitblsjne\\metadata\\hierarchy.json'\n",
      "Downloading 'https://storage.googleapis.com/openimages/v5/validation-annotations-bbox.csv' to 'C:\\Users\\Benni\\Desktop\\PythonProjects\\BA\\bachelor-thesis-transfer-learning\\code\\..\\data\\validation\\labels\\detections.csv'\n",
      "Downloading 100 images\n",
      " 100% |███████████████████| 100/100 [7.4s elapsed, 0s remaining, 15.5 files/s]      \n",
      "Dataset info written to 'C:\\Users\\Benni\\Desktop\\PythonProjects\\BA\\bachelor-thesis-transfer-learning\\code\\..\\data\\info.json'\n",
      "Loading existing dataset 'open-images-v6-100'. To reload from disk, either delete the existing dataset or provide a custom `dataset_name` to use\n"
     ]
    }
   ],
   "source": [
    "# download data from Open Image Dataset V6\n",
    "import os\n",
    "import fiftyone\n",
    "\n",
    "data_dir = os.path.join(os.getcwd(), 'data')\n",
    "if not os.path.exists(data_dir):\n",
    "    os.makedirs(data_dir)\n",
    "    \n",
    "dataset = fiftyone.zoo.load_zoo_dataset(\n",
    "    \"open-images-v6\",\n",
    "    label_types=\"detections\",\n",
    "    classes=[\"Vehicle registration plate\"],\n",
    "    max_samples=100,\n",
    "    dataset_dir=data_dir\n",
    ")"
   ]
  },
  {
   "cell_type": "code",
   "execution_count": null,
   "id": "6c0593f6",
   "metadata": {},
   "outputs": [],
   "source": []
  },
  {
   "cell_type": "code",
   "execution_count": null,
   "id": "67aa895d",
   "metadata": {},
   "outputs": [],
   "source": [
    "#for evaluation https://voxel51.com/docs/fiftyone/user_guide/evaluation.html#evaluating-detections-open-images ?\n",
    "results = dataset.evaluate_detections(\"predictions\", gt_field=\"detections\", method=\"open-images\")"
   ]
  }
 ],
 "metadata": {
  "kernelspec": {
   "display_name": "Python 3 (ipykernel)",
   "language": "python",
   "name": "python3"
  },
  "language_info": {
   "codemirror_mode": {
    "name": "ipython",
    "version": 3
   },
   "file_extension": ".py",
   "mimetype": "text/x-python",
   "name": "python",
   "nbconvert_exporter": "python",
   "pygments_lexer": "ipython3",
   "version": "3.9.13"
  }
 },
 "nbformat": 4,
 "nbformat_minor": 5
}
